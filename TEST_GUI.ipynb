{
 "cells": [
  {
   "cell_type": "code",
   "execution_count": 1,
   "metadata": {},
   "outputs": [],
   "source": [
    "import numpy as np\n",
    "import pandas as pd\n",
    "import sys\n",
    "import os\n",
    "import Visualisation\n",
    "import Generate_Statistics\n",
    "import Generate_Crater\n",
    "import Plotting_tool\n",
    "import Model\n"
   ]
  },
  {
   "cell_type": "markdown",
   "metadata": {},
   "source": [
    "To start the program, put the image/image folder under /Input/images. (moon images should be run one by one, while multi mars images can be put into a folder)\n",
    "\n",
    "Ground truth csv should be under Input/truth/\n",
    "\n",
    "Please fill the following cell."
   ]
  },
  {
   "cell_type": "code",
   "execution_count": 2,
   "metadata": {},
   "outputs": [],
   "source": [
    "#COMPULSORY INPUTS\n",
    "\n",
    "planet_type = 'MOON' #'MOON' or 'MARS'\n",
    "source = 'Input/images/amazonis_20_5.png'\n",
    "pixel = 416"
   ]
  },
  {
   "cell_type": "code",
   "execution_count": 3,
   "metadata": {},
   "outputs": [],
   "source": [
    "#OPTIONAL GROUND TRUTH LABELS\n",
    "ground_truth_labels = './true_label.csv'\n"
   ]
  },
  {
   "cell_type": "code",
   "execution_count": null,
   "metadata": {},
   "outputs": [],
   "source": [
    "#OPTIONAL LOCATION INPUTS - Please delete None and add your values in chosen (see example below)\n",
    "\n",
    "# image size (degrees)\n",
    "image_width = None\n",
    "image_height = None\n",
    "\n",
    "# image location (degrees)\n",
    "image_latitude = None\n",
    "image_longitude = None\n",
    "\n",
    "# planet radius (km)\n",
    "R = None\n",
    "\n",
    "# image resolution (m/px)\n",
    "resolution = None\n"
   ]
  },
  {
   "cell_type": "code",
   "execution_count": 4,
   "metadata": {},
   "outputs": [],
   "source": [
    "#OPTIONAL LOCATION INPUTS (EXAMPLE)\n",
    "\n",
    "# image size (degrees)\n",
    "image_width = 20\n",
    "image_height = 40\n",
    "\n",
    "# image location (degrees)\n",
    "image_latitude = 15\n",
    "image_longitude = -10\n",
    "\n",
    "# planet radius (km)\n",
    "R = 500\n",
    "# image resolution (m/px)\n",
    "resolution = 10\n",
    "\n",
    "# the ground truth csv\n",
    "ground_truth_labels = 'Input/truth/true_label.csv'\n"
   ]
  },
  {
   "cell_type": "code",
   "execution_count": 6,
   "metadata": {},
   "outputs": [
    {
     "name": "stderr",
     "output_type": "stream",
     "text": [
      "YOLOv5  2023-2-3 Python-3.9.12 torch-1.13.1+cpu CPU\n",
      "\n",
      "Fusing layers... \n",
      "YOLOv5s summary: 157 layers, 7012822 parameters, 0 gradients\n",
      "image 1/1 C:\\Users\\yw1122\\Desktop\\acds-moonshot-fermi\\Input\\images\\amazonis_20_5.png: 416x416 2 craters, 163.5ms\n",
      "Speed: 2.1ms pre-process, 163.5ms inference, 1.0ms NMS per image at shape (1, 3, 416, 416)\n",
      "Results saved to \u001b[1mYOLO\\runs\\detect\\exp2\u001b[0m\n",
      "1 labels saved to YOLO\\runs\\detect\\exp2\\labels\n"
     ]
    }
   ],
   "source": [
    "# Please execute this cell to run the model\n",
    "try:\n",
    "    os.mkdir('Output/detections/')\n",
    "    os.mkdir('Output/images/')\n",
    "    os.mkdir('Output/statistics/')\n",
    "except:\n",
    "    pass\n",
    "if planet_type == 'MOON':\n",
    "    Model.predict('YOLO/weights/moon.pt', pixel, 0.25, source)\n",
    "elif planet_type == 'MARS':\n",
    "    Model.predict('YOLO/weights/mars.pt', pixel, 0.25, source)"
   ]
  },
  {
   "cell_type": "markdown",
   "metadata": {},
   "source": [
    "Visualisation and Statistics:\n",
    "\n",
    "Run the following cells to produce some plots of the data given. Further plots will be saved in Output/images and the statistics will be both printed below and saved in Output/statistics . "
   ]
  },
  {
   "cell_type": "code",
   "execution_count": 7,
   "metadata": {},
   "outputs": [
    {
     "name": "stdout",
     "output_type": "stream",
     "text": [
      "Size Frequency distribution\n",
      "Cumulative Frequency Size distribution\n",
      "Annotations\n"
     ]
    }
   ],
   "source": [
    "model_output_csv = 'Output/detections/'+source[source.rfind('/'):source.find('.')]+'.csv'\n",
    "Visualisation.run(model_output_csv, source,ground_truth_labels, image_width,image_height, \\\n",
    "    image_latitude,image_longitude, planet_type, R, pixel)"
   ]
  },
  {
   "cell_type": "code",
   "execution_count": 8,
   "metadata": {},
   "outputs": [
    {
     "name": "stdout",
     "output_type": "stream",
     "text": [
      "Crater data:\n",
      "\n",
      "   crater longitude  crater latitude  crater size\n",
      "0         -15.84134         15.33652    27.629169\n",
      "    Dr TP FP FN Recall Precision F1_score\n",
      "0    1  0  1  1    0.0       0.0      0.0\n",
      "1   10  0  1  1    0.0       0.0      0.0\n",
      "2  100  0  0  0    NaN       NaN      NaN\n"
     ]
    },
    {
     "name": "stderr",
     "output_type": "stream",
     "text": [
      "C:\\Users\\yw1122\\Desktop\\acds-moonshot-fermi\\analysis_tool\\functions.py:323: RuntimeWarning: divide by zero encountered in double_scalars\n",
      "  F1 = 2 / (1 / precision + 1 / recall)\n",
      "C:\\Users\\yw1122\\Desktop\\acds-moonshot-fermi\\analysis_tool\\functions.py:323: RuntimeWarning: divide by zero encountered in double_scalars\n",
      "  F1 = 2 / (1 / precision + 1 / recall)\n",
      "C:\\Users\\yw1122\\Desktop\\acds-moonshot-fermi\\analysis_tool\\functions.py:252: RuntimeWarning: invalid value encountered in long_scalars\n",
      "  Recall = tp / truth\n",
      "C:\\Users\\yw1122\\Desktop\\acds-moonshot-fermi\\analysis_tool\\functions.py:294: RuntimeWarning: invalid value encountered in long_scalars\n",
      "  Precision = tp / positive\n"
     ]
    }
   ],
   "source": [
    "if ground_truth_labels is None:\n",
    "    print('Do not support confusion matrix statistics')\n",
    "    Generate_Crater.get_statistics(model_output_csv, ground_truth_labels, image_width,image_height,image_latitude,image_longitude,planet_type,R, resolution)\n",
    "elif image_width is None:\n",
    "    print('Do not support crater size and location output')\n",
    "else:\n",
    "    Generate_Statistics.get_statistics(model_output_csv, ground_truth_labels, image_width,image_height,image_latitude,image_longitude,planet_type,R, resolution)"
   ]
  },
  {
   "cell_type": "code",
   "execution_count": null,
   "metadata": {},
   "outputs": [],
   "source": []
  }
 ],
 "metadata": {
  "kernelspec": {
   "display_name": "Python 3 (ipykernel)",
   "language": "python",
   "name": "python3"
  },
  "language_info": {
   "codemirror_mode": {
    "name": "ipython",
    "version": 3
   },
   "file_extension": ".py",
   "mimetype": "text/x-python",
   "name": "python",
   "nbconvert_exporter": "python",
   "pygments_lexer": "ipython3",
   "version": "3.9.12"
  },
  "vscode": {
   "interpreter": {
    "hash": "31f2aee4e71d21fbe5cf8b01ff0e069b9275f58929596ceb00d14d90e3e16cd6"
   }
  }
 },
 "nbformat": 4,
 "nbformat_minor": 2
}
